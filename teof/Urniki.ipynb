{
 "cells": [
  {
   "cell_type": "code",
   "execution_count": 1,
   "metadata": {},
   "outputs": [],
   "source": [
    "import re\n",
    "\n",
    "import docx\n",
    "import openpyxl"
   ]
  },
  {
   "cell_type": "code",
   "execution_count": 2,
   "metadata": {},
   "outputs": [],
   "source": [
    "from IPython.core.interactiveshell import InteractiveShell\n",
    "InteractiveShell.ast_node_interactivity = \"all\""
   ]
  },
  {
   "cell_type": "code",
   "execution_count": 3,
   "metadata": {},
   "outputs": [],
   "source": [
    "doc = docx.Document(\"./Urnik zimski semester 2019-20 Ljubljana.docx\")"
   ]
  },
  {
   "cell_type": "code",
   "execution_count": 4,
   "metadata": {},
   "outputs": [],
   "source": [
    "def get_day(table):\n",
    "    return table.rows[1].cells[0].text.replace(\"\\n\", \"\")"
   ]
  },
  {
   "cell_type": "code",
   "execution_count": 5,
   "metadata": {},
   "outputs": [],
   "source": [
    "def get_time_ranges(table):\n",
    "    return [cell.text for cell in table.rows[0].cells[2:]]"
   ]
  },
  {
   "cell_type": "code",
   "execution_count": 6,
   "metadata": {},
   "outputs": [],
   "source": [
    "def get_data_from_cell(cell):\n",
    "    RE_PARAN = re.compile(r'(?<=\\().*?(?=\\))')\n",
    "    \n",
    "    text = cell.text\n",
    "    \n",
    "    if not text:\n",
    "        return None\n",
    "    \n",
    "    text_array = text.splitlines()\n",
    "    \n",
    "    if len(text_array) == 1 or len(text_array) > 4:\n",
    "        return None\n",
    "    \n",
    "    rest_of_array = \" \".join(text_array[1:])\n",
    "    \n",
    "    teachers_string = rest_of_array.split(\"(\")[0]\n",
    "    teachers_string = teachers_string.split(\"/\")\n",
    "    teachers = teachers_string[0].split(\",\")\n",
    "    if len(teachers_string) == 2:\n",
    "        teachers += [\"as. \" + name for name in teachers_string[1].split(\",\")]\n",
    "    teachers = [name.strip() for name in teachers]\n",
    "    \n",
    "    paranthesis_values = re.findall(RE_PARAN, rest_of_array)\n",
    "    classroom = paranthesis_values[0] if len(paranthesis_values) == 1 else paranthesis_values[1]\n",
    "    time = paranthesis_values[0] if len(paranthesis_values) == 2 else None\n",
    "    \n",
    "    data_from_cell = {\n",
    "        \"subject\": text_array[0],\n",
    "        \"teachers\": teachers,\n",
    "        \"classroom\": classroom,\n",
    "    }\n",
    "    \n",
    "    if time:\n",
    "        data_from_cell[\"time\"] = time\n",
    "    \n",
    "    return data_from_cell\n",
    "        "
   ]
  },
  {
   "cell_type": "code",
   "execution_count": 7,
   "metadata": {},
   "outputs": [],
   "source": [
    "def process_table(table):\n",
    "    day = get_day(table)\n",
    "    time_range = get_time_ranges(table)\n",
    "    \n",
    "    rows = table.rows[1:]\n",
    "    study_course = ''\n",
    "    \n",
    "    processed_table = []\n",
    "    teachers = []\n",
    "    \n",
    "    for i, row in enumerate(rows):\n",
    "        for index, cell in enumerate(row.cells):\n",
    "            if index == 0:\n",
    "                continue\n",
    "            elif index == 1:\n",
    "                study_course = cell.text\n",
    "                continue\n",
    "            else:\n",
    "                data = get_data_from_cell(cell)\n",
    "                if not data:\n",
    "                    continue\n",
    "                time = data.get(\"time\", time_range[index-2])\n",
    "                processed_table.append([study_course, data[\"subject\"], day, time, data[\"classroom\"], \" ,\".join(data[\"teachers\"])])\n",
    "                for teacher in data[\"teachers\"]:\n",
    "                    teachers.append([study_course, data[\"subject\"], day, time,data[\"classroom\"], teacher])\n",
    "    return {\n",
    "        \"processed\": processed_table,\n",
    "        \"teachers\": teachers\n",
    "    }"
   ]
  },
  {
   "cell_type": "code",
   "execution_count": 19,
   "metadata": {},
   "outputs": [],
   "source": [
    "data = []\n",
    "teachers = []\n",
    "\n",
    "for table in doc.tables:\n",
    "    processed = process_table(table)\n",
    "    data += processed[\"processed\"]\n",
    "    teachers += processed[\"teachers\"]"
   ]
  },
  {
   "cell_type": "code",
   "execution_count": 20,
   "metadata": {},
   "outputs": [],
   "source": [
    "wb_teachers = openpyxl.Workbook()\n",
    "    \n",
    "teachers_names = set([teacher[-1] for teacher in teachers])\n",
    "\n",
    "for teacher in teachers_names:\n",
    "    teachers_sheet = wb_teachers.create_sheet(title=teacher)\n",
    "    teachers_sheet.append([teacher])\n",
    "    teachers_sheet.append([])\n",
    "    for row in teachers:\n",
    "        if teacher == row[-1]:\n",
    "            teachers_sheet.append(row)\n",
    "\n",
    "teachers_sheet = wb_teachers.create_sheet(title=\"Učitelji_vsi_predmeti\")\n",
    "teachers_sheet.append([\"Smer\", \"Predmet\", \"Dan\", \"Ura\", \"Predavalnica\", \"Profesor\"])\n",
    "for row in teachers:\n",
    "    teachers_sheet.append(row)\n",
    "\n",
    "\n",
    "wb_teachers.save(filename=\"URNIK–ZIMSKI SEMESTER 2019-2020 – LJUBLJANA (predavatelji).xlsx\")"
   ]
  },
  {
   "cell_type": "code",
   "execution_count": 23,
   "metadata": {},
   "outputs": [],
   "source": [
    "wb_groups = openpyxl.Workbook()\n",
    "\n",
    "study_groups =  set([group[0] for group in data])\n",
    "\n",
    "for group in study_groups:\n",
    "    study_groups_sheet = wb_groups.create_sheet(title=group)\n",
    "    study_groups_sheet.append([group])\n",
    "    study_groups_sheet.append([])\n",
    "    for row in data:\n",
    "        if group == row[0]:\n",
    "            study_groups_sheet.append([])\n",
    "\n",
    "wb_groups.save(filename=\"URNIK–ZIMSKI SEMESTER 2019-2020 – LJUBLJANA (smeri in letniki).xlsx\")"
   ]
  },
  {
   "cell_type": "code",
   "execution_count": 29,
   "metadata": {},
   "outputs": [],
   "source": [
    "wb_rooms = openpyxl.Workbook()\n",
    "\n",
    "classrooms =  set([room[4] for room in data])\n",
    "\n",
    "for room in classrooms:\n",
    "    name = \"Predavalnica \" + room.replace(\"/\", \"-\")[:5]\n",
    "    classrooms_sheet = wb_rooms.create_sheet(title=name)\n",
    "    classrooms_sheet.append([room])\n",
    "    classrooms_sheet.append([])\n",
    "    for row in data:\n",
    "        if room == row[4]:\n",
    "            classrooms_sheet.append(row)\n",
    "    \n",
    "wb_rooms.save(filename=\"URNIK–ZIMSKI SEMESTER 2019-2020 – LJUBLJANA (predavalnice).xlsx\")"
   ]
  },
  {
   "cell_type": "code",
   "execution_count": 26,
   "metadata": {},
   "outputs": [],
   "source": [
    "wb_days = openpyxl.Workbook()\n",
    "\n",
    "days =  set([day[2] for day in data])\n",
    "\n",
    "for day in days:\n",
    "    classrooms_sheet = wb_days.create_sheet(title=day)\n",
    "    classrooms_sheet.append([day])\n",
    "    classrooms_sheet.append([])\n",
    "    for row in data:\n",
    "        if day == row[2]:\n",
    "            classrooms_sheet.append(row)\n",
    "\n",
    "wb_days.save(filename=\"URNIK–ZIMSKI SEMESTER 2019-2020 – LJUBLJANA (dnevi).xlsx\")"
   ]
  },
  {
   "cell_type": "code",
   "execution_count": null,
   "metadata": {},
   "outputs": [],
   "source": []
  }
 ],
 "metadata": {
  "kernelspec": {
   "display_name": "Python 3",
   "language": "python",
   "name": "python3"
  },
  "language_info": {
   "codemirror_mode": {
    "name": "ipython",
    "version": 3
   },
   "file_extension": ".py",
   "mimetype": "text/x-python",
   "name": "python",
   "nbconvert_exporter": "python",
   "pygments_lexer": "ipython3",
   "version": "3.7.4"
  }
 },
 "nbformat": 4,
 "nbformat_minor": 4
}
